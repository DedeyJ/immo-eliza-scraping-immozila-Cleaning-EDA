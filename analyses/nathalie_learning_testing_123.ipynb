{
 "cells": [
  {
   "cell_type": "markdown",
   "metadata": {},
   "source": [
    "# Imports and loading data"
   ]
  },
  {
   "cell_type": "code",
   "execution_count": 20,
   "metadata": {},
   "outputs": [],
   "source": [
    "import pandas as pd\n",
    "import os\n",
    "\n",
    "# Get the current directory (analyses folder)\n",
    "current_dir = os.getcwd()\n",
    "\n",
    "# Navigate up one directory to reach the parent directory (which contains the data folder)\n",
    "parent_dir = os.path.dirname(current_dir)\n",
    "\n",
    "# Define the file paths relative to the parent directory using os.path.join\n",
    "clean_huis_te_koop_path = os.path.join(parent_dir, \"data\", \"cleaned\", \"clean_house.csv\")\n",
    "clean_apartement_te_koop_path = os.path.join(parent_dir, \"data\", \"cleaned\", \"clean_app.csv\")\n",
    "\n",
    "house = pd.read_csv(clean_huis_te_koop_path, sep=\",\")\n",
    "app = pd.read_csv(clean_apartement_te_koop_path, sep=\",\")"
   ]
  },
  {
   "cell_type": "markdown",
   "metadata": {},
   "source": [
    "# Gathering info"
   ]
  },
  {
   "cell_type": "code",
   "execution_count": null,
   "metadata": {},
   "outputs": [],
   "source": [
    "house.info()"
   ]
  },
  {
   "cell_type": "code",
   "execution_count": null,
   "metadata": {},
   "outputs": [],
   "source": [
    "app.info()"
   ]
  },
  {
   "cell_type": "code",
   "execution_count": null,
   "metadata": {},
   "outputs": [],
   "source": [
    "from pandas.plotting import scatter_matrix, andrews_curves, parallel_coordinates, radviz\n",
    "scatter_matrix(house, alpha=0.2, figsize=(12,12));"
   ]
  },
  {
   "cell_type": "code",
   "execution_count": 29,
   "metadata": {},
   "outputs": [
    {
     "data": {
      "text/plain": [
       "array(['HOUSE', 'MIXED_USE_BUILDING', 'APARTMENT_BLOCK', 'BUNGALOW',\n",
       "       'VILLA', 'EXCEPTIONAL_PROPERTY', 'COUNTRY_COTTAGE', 'MANSION',\n",
       "       'FARMHOUSE', 'TOWN_HOUSE', 'MANOR_HOUSE', 'CHALET',\n",
       "       'OTHER_PROPERTY', 'CASTLE'], dtype=object)"
      ]
     },
     "execution_count": 29,
     "metadata": {},
     "output_type": "execute_result"
    }
   ],
   "source": [
    "house.property_subtype.unique()\n"
   ]
  },
  {
   "cell_type": "code",
   "execution_count": 30,
   "metadata": {},
   "outputs": [
    {
     "data": {
      "text/plain": [
       "array(['FLAT_STUDIO', 'APARTMENT', 'DUPLEX', 'GROUND_FLOOR', 'PENTHOUSE',\n",
       "       'SERVICE_FLAT', 'LOFT', 'TRIPLEX', 'KOT'], dtype=object)"
      ]
     },
     "execution_count": 30,
     "metadata": {},
     "output_type": "execute_result"
    }
   ],
   "source": [
    "app.property_subtype.unique()\n"
   ]
  },
  {
   "cell_type": "code",
   "execution_count": 22,
   "metadata": {},
   "outputs": [
    {
     "data": {
      "text/plain": [
       "array(['BUY_REGULAR', 'PUBLIC_SALE', 'LIFE_ANNUITY'], dtype=object)"
      ]
     },
     "execution_count": 22,
     "metadata": {},
     "output_type": "execute_result"
    }
   ],
   "source": [
    "house.type_of_sale.unique()"
   ]
  },
  {
   "cell_type": "code",
   "execution_count": 23,
   "metadata": {},
   "outputs": [
    {
     "data": {
      "text/plain": [
       "array([nan,  8.,  1., 13.,  5.,  7., 15., 17., 14., 23.,  9.,  2., 19.,\n",
       "       12.,  4.,  3., 10., 11., 18., 16.,  6., 22., 20., 28., 24., 27.,\n",
       "       21., 32., 26., 25.])"
      ]
     },
     "execution_count": 23,
     "metadata": {},
     "output_type": "execute_result"
    }
   ],
   "source": [
    "house.number_of_rooms.unique()"
   ]
  },
  {
   "cell_type": "code",
   "execution_count": 32,
   "metadata": {},
   "outputs": [
    {
     "data": {
      "text/plain": [
       "array([nan,  1.,  5.,  9., 12., 10., 16.,  8., 11., 15., 18.,  4.,  3.,\n",
       "        2., 13.,  6.,  7., 14., 20., 21., 19., 17., 22.])"
      ]
     },
     "execution_count": 32,
     "metadata": {},
     "output_type": "execute_result"
    }
   ],
   "source": [
    "app.number_of_rooms.unique()"
   ]
  },
  {
   "cell_type": "code",
   "execution_count": 24,
   "metadata": {},
   "outputs": [
    {
     "data": {
      "text/plain": [
       "array(['INSTALLED', 'USA_HYPER_EQUIPPED', 'NOT_INSTALLED',\n",
       "       'HYPER_EQUIPPED', 'SEMI_EQUIPPED', 'USA_SEMI_EQUIPPED', nan,\n",
       "       'USA_INSTALLED', 'USA_UNINSTALLED'], dtype=object)"
      ]
     },
     "execution_count": 24,
     "metadata": {},
     "output_type": "execute_result"
    }
   ],
   "source": [
    "house.kitchen_type.unique()"
   ]
  },
  {
   "cell_type": "code",
   "execution_count": 33,
   "metadata": {},
   "outputs": [
    {
     "data": {
      "text/plain": [
       "array(['NOT_INSTALLED', 'USA_SEMI_EQUIPPED', 'INSTALLED', nan,\n",
       "       'SEMI_EQUIPPED', 'HYPER_EQUIPPED', 'USA_INSTALLED',\n",
       "       'USA_HYPER_EQUIPPED', 'USA_UNINSTALLED'], dtype=object)"
      ]
     },
     "execution_count": 33,
     "metadata": {},
     "output_type": "execute_result"
    }
   ],
   "source": [
    "app.kitchen_type.unique()"
   ]
  },
  {
   "cell_type": "code",
   "execution_count": 25,
   "metadata": {},
   "outputs": [
    {
     "data": {
      "text/plain": [
       "array([ 2.,  3.,  4., nan,  6.,  1.,  5.,  8.])"
      ]
     },
     "execution_count": 25,
     "metadata": {},
     "output_type": "execute_result"
    }
   ],
   "source": [
    "house.number_of_facades.unique()"
   ]
  },
  {
   "cell_type": "code",
   "execution_count": 34,
   "metadata": {},
   "outputs": [
    {
     "data": {
      "text/plain": [
       "array([nan,  2.,  3.,  4.,  1.,  5.])"
      ]
     },
     "execution_count": 34,
     "metadata": {},
     "output_type": "execute_result"
    }
   ],
   "source": [
    "app.number_of_facades.unique()"
   ]
  },
  {
   "cell_type": "markdown",
   "metadata": {},
   "source": [
    "# Matplotlib"
   ]
  },
  {
   "cell_type": "code",
   "execution_count": null,
   "metadata": {},
   "outputs": [],
   "source": [
    "import matplotlib.pyplot as plt\n",
    "\n",
    "# Define function to count non-null values in each column\n",
    "def count_non_null_values(df):\n",
    "    return df.notnull().sum()\n",
    "\n",
    "# Adjust background -> define this first, before creating the figure and plots\n",
    "plt.style.use('ggplot')\n",
    "\n",
    "# Create figure and subplots\n",
    "fig, axes = plt.subplots(2, 2, figsize=(12, 10))\n",
    "\n",
    "\n",
    "# Plot 1: Number of observations for house dataset\n",
    "axes[0, 0].bar(['House'], [len(house)], alpha=0.5, color='forestgreen')\n",
    "axes[0, 0].set_title('Number of Observations - House')\n",
    "\n",
    "# Plot 2: Number of observations for apartment dataset\n",
    "axes[0, 1].bar(['Apartment'], [len(app)], alpha=0.5, color='orange')\n",
    "axes[0, 1].set_title('Number of Observations - Apartment')\n",
    "\n",
    "# Plot 3: Number of non-null values for each feature in house dataset\n",
    "count_house = count_non_null_values(house)\n",
    "axes[1, 0].bar(count_house.index, count_house.values, color='forestgreen')\n",
    "axes[1, 0].set_title('Non-Null Values - House')\n",
    "axes[1, 0].tick_params(axis='x', rotation=90)\n",
    "\n",
    "# Plot 4: Number of non-null values for each feature in apartment dataset\n",
    "count_apartment = count_non_null_values(app)\n",
    "axes[1, 1].bar(count_apartment.index, count_apartment.values, color='orange')\n",
    "axes[1, 1].set_title('Non-Null Values - Apartment')\n",
    "axes[1, 1].tick_params(axis='x', rotation=90)\n",
    "\n",
    "# Adjust layout\n",
    "plt.tight_layout()\n",
    "\n",
    "# Show plot\n",
    "plt.show()\n"
   ]
  },
  {
   "cell_type": "markdown",
   "metadata": {},
   "source": [
    "# Matplotlib & Seaborn"
   ]
  },
  {
   "cell_type": "code",
   "execution_count": null,
   "metadata": {},
   "outputs": [],
   "source": [
    "import seaborn as sns\n",
    "import matplotlib.pyplot as plt\n",
    "\n",
    "# Define function to count non-null values in each column\n",
    "def count_non_null_values(df):\n",
    "    return df.notnull().sum()\n",
    "\n",
    "sns.set_theme(style=\"darkgrid\") \n",
    "\n",
    "# Create figure and subplots\n",
    "fig, axes = plt.subplots(2, 2, figsize=(12, 10))\n",
    "\n",
    "# Plot 1: Number of observations for house dataset\n",
    "sns.barplot(x=['House'], y=[len(house)], ax=axes[0, 0], color='blue')\n",
    "axes[0, 0].set_title('Number of Observations - House')\n",
    "\n",
    "# Plot 2: Number of observations for apartment dataset\n",
    "sns.barplot(x=['Apartment'], y=[len(app)], ax=axes[0, 1], color='green')\n",
    "axes[0, 1].set_title('Number of Observations - Apartment')\n",
    "\n",
    "# Plot 3: Number of non-null values for each feature in house dataset\n",
    "count_house = count_non_null_values(house)\n",
    "sns.barplot(x=count_house.index, y=count_house.values, ax=axes[1, 0], color='blue')\n",
    "axes[1, 0].set_title('Non-Null Values - House')\n",
    "axes[1, 0].tick_params(axis='x', rotation=90)\n",
    "\n",
    "# Plot 4: Number of non-null values for each feature in apartment dataset\n",
    "count_apartment = count_non_null_values(app)\n",
    "sns.barplot(x=count_apartment.index, y=count_apartment.values, ax=axes[1, 1], color='green')\n",
    "axes[1, 1].set_title('Non-Null Values - Apartment')\n",
    "axes[1, 1].tick_params(axis='x', rotation=90)\n",
    "\n",
    "# Adjust layout\n",
    "plt.tight_layout()\n",
    "\n",
    "# Show plot\n",
    "plt.show()\n"
   ]
  },
  {
   "cell_type": "markdown",
   "metadata": {},
   "source": [
    "# What variables are most subject to outliers?\n",
    "\n",
    "### Approach\n",
    "- create a subplot for each of the features to clearly show outliers"
   ]
  },
  {
   "cell_type": "code",
   "execution_count": null,
   "metadata": {},
   "outputs": [],
   "source": [
    "for col in house.columns:\n",
    "    print(\"---VALUES FOR \" + col + \":\")\n",
    "    print(house[col].value_counts())"
   ]
  },
  {
   "cell_type": "code",
   "execution_count": null,
   "metadata": {},
   "outputs": [],
   "source": [
    "import seaborn as sns\n",
    "import matplotlib.pyplot as plt\n",
    "from matplotlib.ticker import FuncFormatter\n",
    "\n",
    "# Assuming house is your DataFrame\n",
    "\n",
    "# Create figure and subplots\n",
    "fig, axes = plt.subplots(4, 4, figsize=(20, 20))"
   ]
  },
  {
   "cell_type": "code",
   "execution_count": null,
   "metadata": {},
   "outputs": [],
   "source": [
    "house.columns"
   ]
  },
  {
   "cell_type": "code",
   "execution_count": null,
   "metadata": {},
   "outputs": [],
   "source": [
    "import seaborn as sns\n",
    "import matplotlib.pyplot as plt\n",
    "from matplotlib.ticker import FuncFormatter\n",
    "\n",
    "# Assuming house is your DataFrame\n",
    "\n",
    "# Select only the columns you want\n",
    "selected_columns = ['property_subtype', 'price', 'type_of_sale',\n",
    "                    'number_of_rooms', 'living_area', 'kitchen_type',\n",
    "                    'furnished', 'open_fire', 'terrace',\n",
    "                    'terrace_area', 'garden', 'garden_area', 'surface_of_good',\n",
    "                    'number_of_facades', 'swimming_pool', 'state_of_building']\n",
    "\n",
    "# Create figure and subplots\n",
    "fig, axes = plt.subplots(4, 4, figsize=(20, 20))\n",
    "\n",
    "# Flatten the axes array to easily access each subplot\n",
    "axes = axes.flatten()\n",
    "\n",
    "# Iterate through each selected column and create a subplot\n",
    "for i, column in enumerate(selected_columns):\n",
    "    # Skip plotting if the column is 'price' since it's continuous\n",
    "    if column == 'price':\n",
    "        continue\n",
    "    \n",
    "    # Create a catplot for the current column\n",
    "    sns.catplot(data=house, x=column, kind='count', ax=axes[i], aspect=2)\n",
    "    \n",
    "    # Set the x-axis labels\n",
    "    axes[i].set_xticklabels(axes[i].get_xticklabels(), rotation=45, ha='right')\n",
    "    \n",
    "    # Set the title of the subplot\n",
    "    axes[i].set_title(column)\n",
    "\n",
    "# Add the price plot as the 16th subplot\n",
    "sns.histplot(data=house, x='price', ax=axes[-1], kde=True, bins=20, color='skyblue')\n",
    "axes[-1].set_title('Price')\n",
    "\n",
    "# Format the price axis\n",
    "def format_price_tick(x, pos):\n",
    "    return f'{x:,.0f}'  # Format the price as comma-separated and without decimal places\n",
    "\n",
    "formatter = FuncFormatter(format_price_tick)\n",
    "axes[-1].xaxis.set_major_formatter(formatter)\n",
    "\n",
    "# Remove the extra subplot\n",
    "plt.close(len(selected_columns) - 1)\n",
    "\n",
    "# Adjust layout and show plot\n",
    "plt.tight_layout()\n",
    "plt.show()\n"
   ]
  },
  {
   "cell_type": "code",
   "execution_count": null,
   "metadata": {},
   "outputs": [],
   "source": [
    "import seaborn as sns\n",
    "import matplotlib.pyplot as plt\n",
    "\n",
    "## setting the theme\n",
    "sns.set_theme(style=\"darkgrid\") \n",
    "\n",
    "\n",
    "'property_subtype', 'price', 'type_of_sale',\n",
    "'number_of_rooms', 'living_area', 'kitchen_type',\n",
    "'furnished', 'open_fire', 'terrace',\n",
    "'terrace_area', 'garden', 'garden_area', 'surface_of_good',\n",
    "'number_of_facades', 'swimming_pool', 'state_of_building'\n",
    "\n",
    "# Create figure and subplots\n",
    "fig, axes = plt.subplots(4, 4, figsize=(12, 10))\n",
    "\n",
    "sns.catplot(data=house, x='property_subtype', ax=axes[0, 0], aspect=2.5)\n",
    "plt.xticks(rotation=45)  # Adjust the rotation here\n",
    "axes[0, 0].set_title('Property_subtype')\n",
    "\n",
    "\n",
    "\n",
    "\n",
    "\n",
    "sns.barplot(x=['House'], y=[len(house)], ax=axes[0, 0], color='blue')\n",
    "axes[0, 0].set_title('Number of Observations - House')\n",
    "\n",
    "# Plot 2: Number of observations for apartment dataset\n",
    "sns.barplot(x=['Apartment'], y=[len(app)], ax=axes[0, 1], color='green')\n",
    "axes[0, 1].set_title('Number of Observations - Apartment')\n",
    "\n",
    "# Plot 3: Number of non-null values for each feature in house dataset\n",
    "count_house = count_non_null_values(house)\n",
    "sns.barplot(x=count_house.index, y=count_house.values, ax=axes[1, 0], color='blue')\n",
    "axes[1, 0].set_title('Non-Null Values - House')\n",
    "axes[1, 0].tick_params(axis='x', rotation=90)\n",
    "\n",
    "# Plot 4: Number of non-null values for each feature in apartment dataset\n",
    "count_apartment = count_non_null_values(app)\n",
    "sns.barplot(x=count_apartment.index, y=count_apartment.values, ax=axes[1, 1], color='green')\n",
    "axes[1, 1].set_title('Non-Null Values - Apartment')\n",
    "axes[1, 1].tick_params(axis='x', rotation=90)\n",
    "\n",
    "# Adjust layout\n",
    "plt.tight_layout()\n",
    "\n",
    "# Show plot\n",
    "plt.show()\n"
   ]
  },
  {
   "cell_type": "code",
   "execution_count": null,
   "metadata": {},
   "outputs": [],
   "source": [
    "sns.catplot(data=house, x='property_subtype', aspect=2.5)\n",
    "plt.xticks(rotation=45)  # Adjust the rotation here\n",
    "plt.show()"
   ]
  },
  {
   "cell_type": "code",
   "execution_count": null,
   "metadata": {},
   "outputs": [],
   "source": [
    "from matplotlib.ticker import FuncFormatter\n",
    "sns.set_theme(style=\"darkgrid\") \n",
    "sns.catplot(data=house, x='price', aspect=2.5, hue='price')\n",
    "plt.xticks(rotation=45)  # Adjust the rotation here\n",
    "\n",
    "# Function to format tick labels\n",
    "def format_price_tick(x, pos):\n",
    "    return f'{x:,.0f}'  # Format the price as comma-separated and without decimal places\n",
    "\n",
    "# Apply the custom tick formatter\n",
    "formatter = FuncFormatter(format_price_tick)\n",
    "plt.gca().xaxis.set_major_formatter(formatter)\n",
    "\n",
    "plt.show()"
   ]
  },
  {
   "cell_type": "code",
   "execution_count": null,
   "metadata": {},
   "outputs": [],
   "source": [
    "sns.catplot(data=house, x='type_of_sale', aspect=2.5)\n",
    "plt.xticks(rotation=45)  # Adjust the rotation here\n",
    "plt.show()"
   ]
  },
  {
   "cell_type": "code",
   "execution_count": null,
   "metadata": {},
   "outputs": [],
   "source": [
    "sns.catplot(data=house, x='number_of_rooms', aspect=2.5, hue='number_of_rooms')\n",
    "plt.xticks(rotation=45)  # Adjust the rotation here\n",
    "plt.show()"
   ]
  },
  {
   "cell_type": "code",
   "execution_count": null,
   "metadata": {},
   "outputs": [],
   "source": [
    "\n",
    "import seaborn as sns\n",
    "import matplotlib.pyplot as plt\n",
    "\n",
    "plt.figure(figsize=(16,6))\n",
    "plt.title(\"Immo Houses\")\n",
    "sns.lineplot(data=house)\n",
    "# sns.catplot(data=house)\n",
    "\n"
   ]
  },
  {
   "cell_type": "code",
   "execution_count": null,
   "metadata": {},
   "outputs": [],
   "source": [
    "sns.pairplot(house)"
   ]
  },
  {
   "cell_type": "markdown",
   "metadata": {},
   "source": [
    "# Plotly\n",
    "\n",
    "https://plotly.com/python\n",
    "\n",
    "### Components:\n",
    "- `layout` (dictionary controlling style of the figure --> one layout per figure)\n",
    "\n",
    "- `data` (list of dictionaries setting graph type & data itself)\n",
    "--> data + type = `a trace`"
   ]
  },
  {
   "cell_type": "code",
   "execution_count": null,
   "metadata": {},
   "outputs": [],
   "source": [
    "import plotly.express as px\n",
    "\n",
    "fig = px.bar(house, x=\"property_subtype\", y=\"price\", color=\"property_subtype\")\n",
    "fig.show()"
   ]
  },
  {
   "cell_type": "code",
   "execution_count": null,
   "metadata": {},
   "outputs": [],
   "source": [
    "fig = px.histogram(house, x=\"price\", nbins=5, marginal=\"box\", hover_data=house.columns, color=\"property_subtype\")\n",
    "fig.show()"
   ]
  },
  {
   "cell_type": "code",
   "execution_count": null,
   "metadata": {},
   "outputs": [],
   "source": [
    "# Box plot showing outliers\n",
    "# - hover_data to show more information on hover over\n",
    "# - points='all' to show all points\n",
    "fig = px.box(house, y=\"price\", hover_data=house.columns, points=\"all\", color=\"property_subtype\")\n",
    "fig.show()"
   ]
  },
  {
   "cell_type": "code",
   "execution_count": null,
   "metadata": {},
   "outputs": [],
   "source": [
    "cr = house.corr(method=\"pearson\")\n",
    "cr"
   ]
  },
  {
   "cell_type": "code",
   "execution_count": null,
   "metadata": {},
   "outputs": [],
   "source": [
    "fig = px.scatter(house, x=\"price\", y=\"number_of_rooms\", color=\"province\", symbol=\"property_subtype\")\n",
    "fig.show()"
   ]
  },
  {
   "cell_type": "code",
   "execution_count": null,
   "metadata": {},
   "outputs": [],
   "source": [
    "house.columns"
   ]
  },
  {
   "cell_type": "code",
   "execution_count": null,
   "metadata": {},
   "outputs": [],
   "source": []
  }
 ],
 "metadata": {
  "kernelspec": {
   "display_name": ".venv",
   "language": "python",
   "name": "python3"
  },
  "language_info": {
   "codemirror_mode": {
    "name": "ipython",
    "version": 3
   },
   "file_extension": ".py",
   "mimetype": "text/x-python",
   "name": "python",
   "nbconvert_exporter": "python",
   "pygments_lexer": "ipython3",
   "version": "3.10.12"
  }
 },
 "nbformat": 4,
 "nbformat_minor": 2
}
