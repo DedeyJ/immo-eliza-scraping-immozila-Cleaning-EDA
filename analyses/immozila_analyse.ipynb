{
 "cells": [
  {
   "cell_type": "markdown",
   "metadata": {},
   "source": [
    "\n",
    "<div style=\"width:30%; margin: auto;\">\n",
    "\n",
    "# Immozila at your service\n",
    "\n",
    "</div>\n",
    "\n",
    "\n",
    "<div style=\"width:60%; margin: auto;\">\n",
    "\n",
    "![house](house.png)  \n",
    "\n",
    "</div>\n",
    "<div style=\"width:10%; margin: auto;\">\n",
    "\n",
    "\n",
    "![app](app.png)  \n",
    "</div>"
   ]
  },
  {
   "cell_type": "markdown",
   "metadata": {},
   "source": [
    "# Imports and Loading data"
   ]
  },
  {
   "cell_type": "code",
   "execution_count": null,
   "metadata": {},
   "outputs": [],
   "source": [
    "import os\n",
    "import pandas as pd\n",
    "import matplotlib.pyplot as plt\n",
    "import seaborn as sns\n",
    "import folium\n",
    "from folium.plugins import MarkerCluster\n",
    "from folium import IFrame\n",
    "import plotly.express as px\n",
    "import plotly.graph_objects as go\n",
    "import semfunction as sf\n",
    "import numpy as np\n",
    "# Get the current directory (analyses folder)\n",
    "current_dir = os.getcwd()\n",
    "\n",
    "# Navigate up one directory to reach the parent directory (which contains the data folder)\n",
    "parent_dir = os.path.dirname(current_dir)\n",
    "\n",
    "# Define the file paths relative to the parent directory using os.path.join\n",
    "clean_huis_te_koop_path = os.path.join(parent_dir, \"data\", \"cleaned\", \"clean_house.csv\")\n",
    "clean_apartement_te_koop_path = os.path.join(parent_dir, \"data\", \"cleaned\", \"clean_app.csv\")\n",
    "\n",
    "house = pd.read_csv(clean_huis_te_koop_path, sep=\",\")\n",
    "app = pd.read_csv(clean_apartement_te_koop_path, sep=\",\")\n",
    "\n"
   ]
  },
  {
   "cell_type": "markdown",
   "metadata": {},
   "source": [
    "## Questions to answer\n",
    "\n",
    "- How many observations and features do you have?\n",
    "- What is the proportion of missing values per column?\n",
    "- Which variables would you delete and why?\n",
    "- What variables are most subject to outliers?\n",
    "- How many qualitative and quantitative variables are there? How would you transform the qualitative values into numerical values?\n",
    "- What is the correlation between the variables and the price? Why do you think some variables are more correlated than others?\n",
    "- How are the variables themselves correlated to each other? Can you find groups of variables that are correlated together?\n",
    "- How are the number of properties distributed according to their surface?\n",
    "- Which five variables do you consider the most important and why?\n",
    "- What are the least/most expensive municipalities in Belgium/Wallonia/Flanders? (in terms of price per m², average price, and median price)"
   ]
  },
  {
   "cell_type": "markdown",
   "metadata": {},
   "source": [
    "### Q1 How many observations and features do you have?"
   ]
  },
  {
   "cell_type": "code",
   "execution_count": null,
   "metadata": {},
   "outputs": [],
   "source": [
    "import plotly.graph_objs as go\n",
    "from plotly.subplots import make_subplots\n",
    "import plotly.express as px\n",
    "\n",
    "\n",
    "# Define function to count non-null values in each column\n",
    "def count_non_null_values(df):\n",
    "    return df.notnull().sum()\n",
    "\n",
    "# Get colors from px.colors.qualitative.swatches()\n",
    "colors = px.colors.qualitative.swatches()\n",
    "\n",
    "# Create figure with subplots\n",
    "fig = make_subplots(rows=2, cols=2, subplot_titles=(\"Number of Observations - Houses\", \n",
    "                                                    \"Number of Observations - Apartments\", \n",
    "                                                    \"Features and occurrences - Houses\", \n",
    "                                                    \"Features and occurrences - Apartments\"))\n",
    "\n",
    "# Plot 1: Number of observations for house dataset\n",
    "fig.add_trace(go.Bar(x=['House'], y=[len(house)], marker=dict(color=px.colors.qualitative.Alphabet[13])), row=1, col=1)\n",
    "\n",
    "# Plot 2: Number of observations for apartment dataset\n",
    "fig.add_trace(go.Bar(x=['Apartment'], y=[len(app)], marker=dict(color=px.colors.qualitative.Pastel[8])), row=1, col=2)\n",
    "\n",
    "# Plot 3: Number of non-null values for each feature in house dataset\n",
    "count_house = count_non_null_values(house)\n",
    "fig.add_trace(go.Bar(x=count_house.index, y=count_house.values, marker=dict(color=px.colors.qualitative.Alphabet[13])), row=2, col=1)\n",
    "\n",
    "# Plot 4: Number of non-null values for each feature in apartment dataset\n",
    "count_apartment = count_non_null_values(app)\n",
    "fig.add_trace(go.Bar(x=count_apartment.index, y=count_apartment.values, marker=dict(color=px.colors.qualitative.Pastel[8])), row=2, col=2)\n",
    "\n",
    "# Update layout\n",
    "fig.update_layout(showlegend=False, title_text=\"Number of Observations and Features\", title_x=0.5)\n",
    "\n",
    "# Set the same y-axis range for Plot 1 and Plot 2\n",
    "max_observation_value = max(len(house), len(app))\n",
    "fig.update_yaxes(range=[0, max_observation_value], row=1, col=1)\n",
    "fig.update_yaxes(range=[0, max_observation_value], row=1, col=2)\n",
    "fig.update_yaxes(range=[0, max_observation_value], row=2, col=1)\n",
    "fig.update_yaxes(range=[0, max_observation_value], row=2, col=2)\n",
    "fig.update_xaxes(tickangle=45, row=2, col=1)\n",
    "fig.update_xaxes(tickangle=45, row=2, col=2)\n",
    "\n",
    "\n",
    "# Show plot\n",
    "fig.show()"
   ]
  },
  {
   "cell_type": "markdown",
   "metadata": {},
   "source": [
    "- For the `houses` we have 11394 observations and 25 features\n",
    "- For the `apartments` we have 9342 observations and 24 features (as surface of good is always empty for apartments)\n"
   ]
  },
  {
   "cell_type": "markdown",
   "metadata": {},
   "source": [
    "### Q2 What is the proportion of missing values per column?\n",
    "\n",
    "- While certain columns exhibit a notable prevalence of missing values, this occurrence often stems from the practice wherein the absence of corresponding attributes results in the omission of data input by the individuals responsible for data entry.\n",
    "\n",
    "- There is however one variable showing a big difference between houses and apartments which is surface of good, showing no input anywhere in the apartments, and therefore one of the attributes best left out of the model."
   ]
  },
  {
   "cell_type": "code",
   "execution_count": null,
   "metadata": {},
   "outputs": [],
   "source": [
    "def make_bar_perc_plotly(df, colors=None, title=\"Missing Values Proportion\"):\n",
    "    df_missing = pd.DataFrame()\n",
    "    df_missing[\"not-missing\"] = df.count()/len(df)*100\n",
    "    df_missing[\"missing\"] = df.isnull().sum()/len(df)*100\n",
    "\n",
    "    fig = px.bar(df_missing, x=df_missing.index, y=df_missing.columns, title=title, color_discrete_map=colors)\n",
    "    fig.show()\n",
    "\n",
    "house_custom_colors = {\"not-missing\": px.colors.qualitative.Alphabet[13], \"missing\": px.colors.qualitative.T10[9]}\n",
    "make_bar_perc_plotly(house, colors=house_custom_colors, title=\"Missing Values Proportion - House\")"
   ]
  },
  {
   "cell_type": "code",
   "execution_count": null,
   "metadata": {},
   "outputs": [],
   "source": [
    "app_custom_colors = {\"not-missing\": px.colors.qualitative.Pastel[8], \"missing\": px.colors.qualitative.T10[9]}\n",
    "make_bar_perc_plotly(app, colors=app_custom_colors, title=\"Missing Values Proportion - Apartment\")"
   ]
  },
  {
   "cell_type": "markdown",
   "metadata": {},
   "source": [
    "### Q3 Which variables would you delete and why?\n"
   ]
  },
  {
   "cell_type": "markdown",
   "metadata": {},
   "source": [
    "| Variable to remove      | Reason |\n",
    "| ----------- | ----------- |\n",
    "| surface_of_good | for apartments as surface of good is always empty   |\n",
    "| property_id | as all records have a unique property_id |\n",
    "| property_type | as for house this is always house and for apartment this is always apartement |\n",
    "| terrace | booleans 1/0, we can deduct from terrace surface |\n",
    "| garden | booleans 1/0, we can deduct from garden surface |"
   ]
  },
  {
   "cell_type": "markdown",
   "metadata": {},
   "source": [
    "### Q4 What variables are most subject to outliers?\n"
   ]
  },
  {
   "cell_type": "code",
   "execution_count": null,
   "metadata": {},
   "outputs": [],
   "source": [
    "def count_iqr_outliers (df, column_name):\n",
    "    \"\"\"\n",
    "    Counts outliers based on interquartile range\n",
    "    \"\"\"\n",
    "    seventy_fifth = df[column_name].quantile(0.75)\n",
    "    twenty_fifth = df[column_name].quantile(0.25)\n",
    "    iqr = seventy_fifth-twenty_fifth\n",
    "    upper = seventy_fifth + (1.5*iqr)\n",
    "    lower = twenty_fifth - (1.5*iqr)\n",
    "    outliers = df.loc[(df[column_name] >= upper)|(df[column_name] <= lower)]\n",
    "    count_outliers = outliers.shape[0]\n",
    "    return count_outliers\n",
    "\n",
    "print(count_iqr_outliers(app, \"price\"))\n",
    "\n",
    "quantitative = ['price', 'number_of_rooms', 'living_area', 'terrace_area', 'garden_area', 'surface_of_good','number_of_facades']\n",
    "\n",
    "d={}\n",
    "for col in quantitative:\n",
    "    d[col] = [count_iqr_outliers(app, col)]\n",
    "\n",
    "df = pd.DataFrame(data=d)\n",
    "df= df.transpose()\n",
    "df.rename(columns={0: \"outliers_count\"}, inplace=True)\n",
    "df.sort_values(by='outliers_count', ascending=False, inplace=True)\n",
    "\n",
    "fig = px.bar(df, x=df.index, y=\"outliers_count\", color=df.index)\n",
    "fig.update_layout(barmode='group', width=800)\n",
    "fig.update_traces(width=0.5)\n",
    "fig.update_layout(yaxis=dict(title='Count'))\n",
    "fig.update_layout(xaxis=dict(title='Variable'))\n",
    "fig.update_layout(title='Outliers per variable - Apartments')\n"
   ]
  },
  {
   "cell_type": "code",
   "execution_count": null,
   "metadata": {},
   "outputs": [],
   "source": [
    "d={}\n",
    "for col in quantitative:\n",
    "    d[col] = [count_iqr_outliers(house, col)]\n",
    "\n",
    "df = pd.DataFrame(data=d)\n",
    "df= df.transpose()\n",
    "df.rename(columns={0: \"outliers_count\"}, inplace=True)\n",
    "df.sort_values(by='outliers_count', ascending=False, inplace=True)\n",
    "\n",
    "fig = px.bar(df, x=df.index, y=\"outliers_count\", color=df.index)\n",
    "fig.update_layout(barmode='group', width=800)\n",
    "fig.update_traces(width=0.5)\n",
    "fig.update_layout(yaxis=dict(title='Count'))\n",
    "fig.update_layout(xaxis=dict(title='Variable'))\n",
    "fig.update_layout(title='Outliers per variable - Houses')"
   ]
  },
  {
   "cell_type": "markdown",
   "metadata": {},
   "source": [
    "### Q5 How many qualitative and quantitative variables are there? How would you transform the qualitative values into numerical values?\n"
   ]
  },
  {
   "cell_type": "markdown",
   "metadata": {},
   "source": [
    "### Qualitative variables (18)\n",
    "\n",
    "- property_id\n",
    "- locality_name\n",
    "- postal_code\n",
    "- latitude\n",
    "- longitude\n",
    "- main_city\n",
    "- province\n",
    "- property_type    \n",
    "- property_subtype \n",
    "- type_of_sale     \n",
    "- kitchen_type     \n",
    "- fully_equipped_kitchen\n",
    "- furnished\n",
    "- open_fire\n",
    "- terrace\n",
    "- garden\n",
    "- state_of_building --> transform them to numerical values to be able to use them for correlation (give a number for each state)\n",
    "- swimming_pool\n",
    "\n",
    "### Quantitative variables (7)\n",
    "- price\n",
    "- number_of_rooms\n",
    "- living_area\n",
    "- terrace_area\n",
    "- garden_area\n",
    "- surface_of_good\n",
    "- number_of_facades"
   ]
  },
  {
   "cell_type": "markdown",
   "metadata": {},
   "source": [
    "### Q6 What is the correlation between the variables and the price? Why do you think some variables are more correlated than others?\n",
    "\n",
    "`Anwser`: \n",
    "\n",
    "There is a correlation between price and living area, garden space, and the surface area of goods. The rationale behind these correlations is straightforward. When the price increases, it follows logically that the living space expands. Furthermore, the rise in price also leads to an increase in the land area, which consequently impacts the size of the garden. Therefore, both the surface area of goods and the garden space are influenced by changes in price.\n"
   ]
  },
  {
   "cell_type": "code",
   "execution_count": null,
   "metadata": {},
   "outputs": [],
   "source": [
    "limburg = house[house[\"province\"]==\"limburg\"]\n",
    "limburgs = limburg[limburg[\"state_of_building\"]==\"GOOD\"]\n",
    "limburgcorr = sf.drop_object_columns(limburgs)\n",
    "mask = np.triu(np.ones_like(limburgcorr.corr()))\n",
    "sns.heatmap(limburgcorr.corr(), annot=True, vmin=-1, vmax=1, annot_kws={\"fontsize\":11, \"fontweight\":\"bold\"}, square=True, mask=mask, cmap='mako').set_title(\"correlation in houses\")"
   ]
  },
  {
   "cell_type": "code",
   "execution_count": null,
   "metadata": {},
   "outputs": [],
   "source": [
    "sns.regplot(data = limburgcorr, x=\"price\", y=\"living_area\").set_title(\"correlation between price and living area\")"
   ]
  },
  {
   "cell_type": "code",
   "execution_count": null,
   "metadata": {},
   "outputs": [],
   "source": [
    "sns.regplot(data = limburgcorr, x=\"price\", y=\"garden_area\").set_title(\"correlation between price and garden area\")"
   ]
  },
  {
   "cell_type": "code",
   "execution_count": null,
   "metadata": {},
   "outputs": [],
   "source": [
    "sns.regplot(data = limburgcorr, x=\"price\", y=\"surface_of_good\").set_title(\"correlation between price and surface of good\")"
   ]
  },
  {
   "cell_type": "markdown",
   "metadata": {},
   "source": [
    "### Q7 How are the variables themselves correlated to each other? Can you find groups of variables that are correlated together?\n",
    "\n",
    "`Anwser`: \n",
    "There are correlations extending beyond price, particularly evident in the linear relationships between the surface area of goods and garden space, as well as the number of facades and garden area.\n",
    "As the land surface area increases, there is a corresponding expansion in the associated garden area. Similarly, a higher number of facades, or free walls, results in an expansion of the garden space."
   ]
  },
  {
   "cell_type": "code",
   "execution_count": null,
   "metadata": {},
   "outputs": [],
   "source": [
    "sns.regplot(data = limburgcorr, x=\"surface_of_good\", y=\"garden_area\").set_title(\"correlation between garden and surface\")\n"
   ]
  },
  {
   "cell_type": "code",
   "execution_count": null,
   "metadata": {},
   "outputs": [],
   "source": [
    "sns.regplot(data = limburgcorr, x=\"garden_area\", y=\"number_of_facades\").set_title(\"correlation between garden and facades\")"
   ]
  },
  {
   "cell_type": "markdown",
   "metadata": {},
   "source": [
    "### Q8 How are the number of properties distributed according to their surface?\n"
   ]
  },
  {
   "cell_type": "markdown",
   "metadata": {},
   "source": [
    "`Anwser`: \n",
    "- The distribution of the living area of apartments is right-skewed. \n",
    "- This is an expected effect of the standards implemented to the housing in Belgium: \n",
    "   - the lower treshold for the apartment area is 18 m² (24 m² for the properties that were built after 2008), \n",
    "   - at the same time, there is no upper treshold for the living area, meaning that the extremely large apartments, e.g. penthouses will be present on the market. \n",
    "   - The most common size of an apartment for sale is around 100 m²."
   ]
  },
  {
   "cell_type": "code",
   "execution_count": null,
   "metadata": {},
   "outputs": [],
   "source": [
    "sns.set_style(\"darkgrid\")\n",
    "sns.histplot(app, x=\"living_area\", bins=20, color='royalblue')\n",
    "plt.xlabel(\"Living area, m$^2$\")\n",
    "plt.title(\"Living area, m$^2$ - Apartment\")\n",
    "plt.show()"
   ]
  },
  {
   "cell_type": "markdown",
   "metadata": {},
   "source": [
    "- As for houses, we can observe similar right skew, which is, again, determined by local size regulations for very small houses. \n",
    "- Houses are usually larger than apartments: the living area of the majority of house-type properties on the market today reached the size of around 150 m²."
   ]
  },
  {
   "cell_type": "code",
   "execution_count": null,
   "metadata": {},
   "outputs": [],
   "source": [
    "sns.set_style(\"darkgrid\")\n",
    "sns.histplot(house, x=\"living_area\", bins=20, color='lightgreen')\n",
    "plt.xlabel(\"Living area, m$^2$\")\n",
    "plt.title(\"Living area, m$^2$ - House\")\n",
    "plt.show()"
   ]
  },
  {
   "cell_type": "markdown",
   "metadata": {},
   "source": [
    "### Q9 Which five variables do you consider the most important and why?\n",
    "\n",
    "HOUSES\n",
    "- living area\n",
    "- surface of goods (only for houses)\n",
    "- province\n",
    "- number of facades\n",
    "- ...\n",
    "\n",
    "APARTMENTS\n",
    "\n",
    "- living area\n",
    "- terrace area\n",
    "- province\n",
    "- garden area\n",
    "- ...\n"
   ]
  },
  {
   "cell_type": "markdown",
   "metadata": {},
   "source": [
    "### Q10 What are the least/most expensive municipalities in Belgium/Wallonia/Flanders? (in terms of price per m², average price, and median price)"
   ]
  },
  {
   "cell_type": "markdown",
   "metadata": {},
   "source": [
    "`Anwser`: \n",
    "- The residences commanding higher market values predominantly gravitate towards prominent urban centers in Belgium. \n",
    "- Notably, Brussels, Antwerp, Knokke, and Luik exhibit an elevated average pricing paradigm for residential properties. \n",
    "- Conversely, more economical housing options are inclined to be positioned predominantly in the southern regions of Belgium, specifically within the Wallonian territory."
   ]
  },
  {
   "cell_type": "code",
   "execution_count": null,
   "metadata": {},
   "outputs": [],
   "source": [
    "def aggregate_function(df):\n",
    "    \n",
    "    grouped = df.groupby('province').agg(\n",
    "    mean_price=pd.NamedAgg(column='price', aggfunc='mean'),\n",
    "    median_price=pd.NamedAgg(column='price', aggfunc='median'),\n",
    "    max_price=pd.NamedAgg(column='price', aggfunc='max'),\n",
    "    min_price=pd.NamedAgg(column='price', aggfunc='min'),\n",
    "\n",
    "    mean_price_m2=pd.NamedAgg(column='price_per_m2', aggfunc='mean'),\n",
    "    median_price_m2=pd.NamedAgg(column='price_per_m2', aggfunc='median'),\n",
    "    max_price_m2=pd.NamedAgg(column='price_per_m2', aggfunc='max'),\n",
    "    min_price_m2=pd.NamedAgg(column='price_per_m2', aggfunc='min'),\n",
    "\n",
    "    lat=pd.NamedAgg(column='latitude', aggfunc='mean'),\n",
    "    long = pd.NamedAgg(column='longitude', aggfunc='mean')\n",
    "    \n",
    "\n",
    "    ).reset_index()\n",
    "    return grouped\n",
    "house[\"price_per_m2\"] = house[\"price\"]/house[\"living_area\"]\n",
    "app[\"price_per_m2\"] = app[\"price\"]/app[\"living_area\"]\n",
    "\n",
    "house_grouped = aggregate_function(house)\n",
    "app_grouped = aggregate_function(app)"
   ]
  },
  {
   "cell_type": "code",
   "execution_count": null,
   "metadata": {},
   "outputs": [],
   "source": [
    "def make_map(df):\n",
    "    # Define a custom marker icon\n",
    "\n",
    "    map_center  = [df[\"lat\"].mean(), df[\"long\"].mean()]\n",
    "\n",
    "    # Create the map\n",
    "    my_map = folium.Map(location=map_center, zoom_start=8)\n",
    "\n",
    "    for index, row in house_grouped.iterrows():\n",
    "        Provincie, mean_price, median_price, max_price, min_price, mean_price_m2, median_price_m2, max_price_m2, min_price_m2, lat, long = row\n",
    "        location_coordinates = [lat, long]\n",
    "        popup = f\"Province: {Provincie}\\nMean Price: {round(mean_price,2)} EUR\"\n",
    "        custom_icon = folium.Icon(icon='home', prefix='fa')\n",
    "        folium.Marker(location_coordinates, \n",
    "                    tooltip=popup,\n",
    "                    icon= custom_icon).add_to(my_map)\n",
    "        folium.CircleMarker(\n",
    "            location=location_coordinates,\n",
    "            radius=mean_price / 100000,  # Adjust the scaling factor as needed\n",
    "            color='red',\n",
    "            fill=True,\n",
    "            fill_color='red'\n",
    "        ).add_to(my_map)\n",
    "    # Display the new map\n",
    "    return my_map\n"
   ]
  },
  {
   "cell_type": "markdown",
   "metadata": {},
   "source": [
    "### Average Price per Province\n",
    "#### Houses"
   ]
  },
  {
   "cell_type": "code",
   "execution_count": null,
   "metadata": {},
   "outputs": [],
   "source": [
    "make_map(house_grouped)"
   ]
  },
  {
   "cell_type": "markdown",
   "metadata": {},
   "source": [
    "#### Apartments"
   ]
  },
  {
   "cell_type": "code",
   "execution_count": null,
   "metadata": {},
   "outputs": [],
   "source": [
    "make_map(app_grouped)"
   ]
  },
  {
   "cell_type": "code",
   "execution_count": null,
   "metadata": {},
   "outputs": [],
   "source": [
    "def aggregate_locality(df):\n",
    "    \n",
    "    grouped = df.groupby(['locality_name','province']).agg(\n",
    "    mean_price=pd.NamedAgg(column='price', aggfunc='mean'),\n",
    "    median_price=pd.NamedAgg(column='price', aggfunc='median'),\n",
    "\n",
    "    mean_price_m2=pd.NamedAgg(column='price_per_m2', aggfunc='mean'),\n",
    "    median_price_m2=pd.NamedAgg(column='price_per_m2', aggfunc='median'),\n",
    "\n",
    "    latitude=pd.NamedAgg(column='latitude', aggfunc='mean'),\n",
    "    longitude =pd.NamedAgg(column='longitude', aggfunc='mean')\n",
    "    \n",
    "    ).reset_index()\n",
    "    return grouped"
   ]
  },
  {
   "cell_type": "code",
   "execution_count": null,
   "metadata": {},
   "outputs": [],
   "source": [
    "# grouped_locality_house = aggregate_locality(house)\n",
    "# grouped_locality_app = aggregate_locality(app)\n",
    "\n",
    "# Filtered out the highest price observations\n",
    "grouped_locality_house = aggregate_locality(house[house[\"price\"]<= 2000000])\n",
    "grouped_locality_app = aggregate_locality(app[app[\"price\"]<= 2000000])"
   ]
  },
  {
   "cell_type": "code",
   "execution_count": null,
   "metadata": {},
   "outputs": [],
   "source": [
    "def make_heatmap(df, column,radius=2,key=\"all\"):\n",
    "    \n",
    "    customdata=df[['locality_name', column,'province']]\n",
    "    hover_template=('<b>Locality:</b> %{customdata[0]}<br>'\n",
    "                '<b>Province:</b> %{customdata[2]}<br>'\n",
    "                '<b>Price:</b> €%{customdata[1]:,.0f}<br>')\n",
    "    fig = go.Figure(go.Densitymapbox(\n",
    "        lat=df['latitude'],\n",
    "        lon=df['longitude'],\n",
    "        z=df[column],\n",
    "        customdata=customdata,\n",
    "        hovertemplate=hover_template,\n",
    "        radius=radius,\n",
    "\n",
    "    ))\n",
    "\n",
    "    fig.update_layout(\n",
    "        mapbox=dict(\n",
    "            style=\"open-street-map\",\n",
    "            center=dict(lat=df['latitude'].mean(), lon=df['longitude'].mean()),\n",
    "            zoom=6,\n",
    "        ),\n",
    "    )\n",
    "\n",
    "    # Show the plot\n",
    "    fig.show()"
   ]
  },
  {
   "cell_type": "markdown",
   "metadata": {},
   "source": [
    "### Heatmap showing distribution of Average Price per Municipality\n",
    "#### Houses"
   ]
  },
  {
   "cell_type": "code",
   "execution_count": null,
   "metadata": {},
   "outputs": [],
   "source": [
    "make_heatmap(grouped_locality_house, \"mean_price\",radius=10)"
   ]
  },
  {
   "cell_type": "markdown",
   "metadata": {},
   "source": [
    "#### Apartments"
   ]
  },
  {
   "cell_type": "code",
   "execution_count": null,
   "metadata": {},
   "outputs": [],
   "source": [
    "make_heatmap(grouped_locality_app, \"mean_price\",radius=10)"
   ]
  },
  {
   "cell_type": "markdown",
   "metadata": {},
   "source": [
    "### Heatmap showing distribution of Median Price per Municipality\n",
    "#### Houses"
   ]
  },
  {
   "cell_type": "code",
   "execution_count": null,
   "metadata": {},
   "outputs": [],
   "source": [
    "make_heatmap(grouped_locality_house, \"median_price\",radius=10)"
   ]
  },
  {
   "cell_type": "markdown",
   "metadata": {},
   "source": [
    "#### Apartments"
   ]
  },
  {
   "cell_type": "code",
   "execution_count": null,
   "metadata": {},
   "outputs": [],
   "source": [
    "make_heatmap(grouped_locality_app, \"median_price\",radius=10)"
   ]
  },
  {
   "cell_type": "markdown",
   "metadata": {},
   "source": [
    "### Heatmap showing distribution of Average Price per m2 per Municipality\n",
    "#### Houses"
   ]
  },
  {
   "cell_type": "code",
   "execution_count": null,
   "metadata": {},
   "outputs": [],
   "source": [
    "make_heatmap(grouped_locality_house, \"mean_price_m2\",radius=10)"
   ]
  },
  {
   "cell_type": "markdown",
   "metadata": {},
   "source": [
    "#### Apartments"
   ]
  },
  {
   "cell_type": "code",
   "execution_count": null,
   "metadata": {},
   "outputs": [],
   "source": [
    "make_heatmap(grouped_locality_app, \"mean_price_m2\",radius=10)"
   ]
  }
 ],
 "metadata": {
  "kernelspec": {
   "display_name": ".venv",
   "language": "python",
   "name": "python3"
  },
  "language_info": {
   "codemirror_mode": {
    "name": "ipython",
    "version": 3
   },
   "file_extension": ".py",
   "mimetype": "text/x-python",
   "name": "python",
   "nbconvert_exporter": "python",
   "pygments_lexer": "ipython3",
   "version": "3.12.2"
  }
 },
 "nbformat": 4,
 "nbformat_minor": 2
}
